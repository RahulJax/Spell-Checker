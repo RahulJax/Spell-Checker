{
 "cells": [
  {
   "cell_type": "markdown",
   "id": "1aac2846",
   "metadata": {},
   "source": [
    "# Importing Libraries"
   ]
  },
  {
   "cell_type": "code",
   "execution_count": 1,
   "id": "1848f26c",
   "metadata": {},
   "outputs": [],
   "source": [
    "import numpy as np\n",
    "import string\n",
    "import pandas as pd\n",
    "import re\n",
    "from collections import Counter"
   ]
  },
  {
   "cell_type": "markdown",
   "id": "230bd40a",
   "metadata": {},
   "source": [
    "# This function reads the text file and return the words presents in it"
   ]
  },
  {
   "cell_type": "code",
   "execution_count": 2,
   "id": "59c74e8f",
   "metadata": {},
   "outputs": [],
   "source": [
    "def read_corpus(filename):\n",
    "    with open(filename,\"r\") as  file:\n",
    "        lines=file.readlines()\n",
    "        words=[]\n",
    "\n",
    "        for line in lines:\n",
    "            words+=re.findall(r'\\w+' , line.lower())\n",
    "\n",
    "    return words"
   ]
  },
  {
   "cell_type": "code",
   "execution_count": 3,
   "id": "f53b3bbf",
   "metadata": {},
   "outputs": [
    {
     "name": "stdout",
     "output_type": "stream",
     "text": [
      "Total Number of words 109226\n",
      "Total Number of distinct words 8201\n"
     ]
    }
   ],
   "source": [
    "words = read_corpus(\"INPUT.txt\")\n",
    "print(\"Total Number of words \"+str(len(words)))\n",
    "vocab = set(words)\n",
    "print(\"Total Number of distinct words \"+str(len(vocab)))"
   ]
  },
  {
   "cell_type": "markdown",
   "id": "b9cbe10e",
   "metadata": {},
   "source": [
    "# Counts the frequency of each word"
   ]
  },
  {
   "cell_type": "code",
   "execution_count": 4,
   "id": "48f5ce31",
   "metadata": {},
   "outputs": [],
   "source": [
    "word_counter = Counter(words)"
   ]
  },
  {
   "cell_type": "markdown",
   "id": "a5063214",
   "metadata": {},
   "source": [
    "# Finding Probablity of each word in the whole word list"
   ]
  },
  {
   "cell_type": "code",
   "execution_count": 5,
   "id": "c4e599a7",
   "metadata": {},
   "outputs": [],
   "source": [
    "prob = {word : word_counter[word]/len(words) for word in word_counter.keys()}"
   ]
  },
  {
   "cell_type": "markdown",
   "id": "53f39694",
   "metadata": {},
   "source": [
    "# Splitting a word into two parts"
   ]
  },
  {
   "cell_type": "code",
   "execution_count": 6,
   "id": "436f5984",
   "metadata": {},
   "outputs": [],
   "source": [
    "\"\"\"\n",
    "def split(w):\n",
    "    wsplit=[]\n",
    "    for i in range(len(w)+1):\n",
    "        wsplit.append([w[:i],w[i:]])\n",
    "    \n",
    "    return wsplit\n",
    "\"\"\"\n",
    "#using lish comprehension\n",
    "def split(w):\n",
    "    return [[w[:i],w[i:]] for i in range(len(w)+1)]\n"
   ]
  },
  {
   "cell_type": "markdown",
   "id": "23dd5572",
   "metadata": {},
   "source": [
    "# Delete, Swap, Insert & Replace functions  "
   ]
  },
  {
   "cell_type": "code",
   "execution_count": 7,
   "id": "63a4cabf",
   "metadata": {},
   "outputs": [],
   "source": [
    "def delete(w):\n",
    "    return [l+r[1:] for l,r in split(w) if r]"
   ]
  },
  {
   "cell_type": "code",
   "execution_count": 8,
   "id": "0d225b0c",
   "metadata": {},
   "outputs": [],
   "source": [
    "def swapw(w):\n",
    "    return [l+r[1]+r[0]+r[2:] for l,r in split(w) if len(r)>1]"
   ]
  },
  {
   "cell_type": "code",
   "execution_count": 9,
   "id": "6ba205c4",
   "metadata": {},
   "outputs": [],
   "source": [
    "def insertc(w):\n",
    "    alpha = string.ascii_lowercase\n",
    "    return [l+a+r for l,r in split(w) for a in alpha]"
   ]
  },
  {
   "cell_type": "code",
   "execution_count": 10,
   "id": "86380426",
   "metadata": {},
   "outputs": [],
   "source": [
    "def replace(w):\n",
    "    alpha = string.ascii_lowercase\n",
    "    return [l+a+r[1:] for l,r in split(w) if r for a in alpha]"
   ]
  },
  {
   "cell_type": "markdown",
   "id": "a4feca3d",
   "metadata": {},
   "source": [
    "# Function which returns words formed after n edits"
   ]
  },
  {
   "cell_type": "code",
   "execution_count": 11,
   "id": "a536d68a",
   "metadata": {},
   "outputs": [],
   "source": [
    "def level1(w):\n",
    "    return set(delete(w)+swapw(w)+insertc(w)+replace(w))"
   ]
  },
  {
   "cell_type": "code",
   "execution_count": 12,
   "id": "a9a58a5a",
   "metadata": {},
   "outputs": [],
   "source": [
    "def level2(w):\n",
    "    return set(e2 for e1 in level1(w) for e2 in level1(e1))"
   ]
  },
  {
   "cell_type": "markdown",
   "id": "ddc34e0e",
   "metadata": {},
   "source": [
    "# Function which returns best suggestion words with their Probablities"
   ]
  },
  {
   "cell_type": "code",
   "execution_count": 13,
   "id": "03eadd8a",
   "metadata": {},
   "outputs": [],
   "source": [
    "def correct_spelling(word, vocab, word_prob):\n",
    "    if word in vocab:\n",
    "        print(word+\" is correct\")\n",
    "        return\n",
    "    \n",
    "    sugg = level1(word) or level2(word) or [word]\n",
    "    best_guess = [w for w in sugg if w in vocab]\n",
    "    return best_guess\n",
    "    return [(w, word_prob[w]) for w in best_guess]"
   ]
  },
  {
   "cell_type": "markdown",
   "id": "79602d76",
   "metadata": {},
   "source": [
    "# Now it's Correction time"
   ]
  },
  {
   "cell_type": "code",
   "execution_count": 14,
   "id": "c5621dbc",
   "metadata": {},
   "outputs": [
    {
     "name": "stdout",
     "output_type": "stream",
     "text": [
      "['sherlock']\n"
     ]
    }
   ],
   "source": [
    "word = \"sherloc\"\n",
    "ans = correct_spelling(word,vocab, prob)\n",
    "print(ans)"
   ]
  },
  {
   "cell_type": "code",
   "execution_count": 15,
   "id": "923e5ce6",
   "metadata": {},
   "outputs": [
    {
     "name": "stdout",
     "output_type": "stream",
     "text": [
      "kill is correct\n",
      "None\n"
     ]
    }
   ],
   "source": [
    "word = \"kill\"\n",
    "ans = correct_spelling(word,vocab, prob)\n",
    "print(ans)"
   ]
  },
  {
   "cell_type": "code",
   "execution_count": null,
   "id": "80ce401a",
   "metadata": {},
   "outputs": [],
   "source": []
  }
 ],
 "metadata": {
  "kernelspec": {
   "display_name": "Python 3",
   "language": "python",
   "name": "python3"
  },
  "language_info": {
   "codemirror_mode": {
    "name": "ipython",
    "version": 3
   },
   "file_extension": ".py",
   "mimetype": "text/x-python",
   "name": "python",
   "nbconvert_exporter": "python",
   "pygments_lexer": "ipython3",
   "version": "3.8.5"
  }
 },
 "nbformat": 4,
 "nbformat_minor": 5
}
